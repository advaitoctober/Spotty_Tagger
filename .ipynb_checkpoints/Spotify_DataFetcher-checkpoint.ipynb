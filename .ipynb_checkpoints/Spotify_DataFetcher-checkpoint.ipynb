{
 "cells": [
  {
   "cell_type": "code",
   "execution_count": 47,
   "metadata": {},
   "outputs": [],
   "source": [
    "#Import\n",
    "from spotify import Client, OAuth\n",
    "import pandas as pd"
   ]
  },
  {
   "cell_type": "code",
   "execution_count": 53,
   "metadata": {},
   "outputs": [],
   "source": [
    "auth = OAuth('f716b10140c04e9997c89e1d094745f6', 'b9aa1c134fe244ebaed7b3cba541f6a7')\n",
    "auth.request_client_credentials()"
   ]
  },
  {
   "cell_type": "code",
   "execution_count": 54,
   "metadata": {},
   "outputs": [],
   "source": [
    "spotifyClient = Client(auth)"
   ]
  },
  {
   "cell_type": "code",
   "execution_count": 55,
   "metadata": {},
   "outputs": [],
   "source": [
    "spotifyAPI = spotifyClient.api"
   ]
  },
  {
   "cell_type": "code",
   "execution_count": 24,
   "metadata": {},
   "outputs": [],
   "source": [
    "def getTrackAttributes(trackIdList = []):\n",
    "    trackJson = spotifyAPI.tracks_audio_features(trackIdList)\n",
    "    trackList = trackJson['audio_features']\n",
    "    trackList = list(filter(None, trackList))\n",
    "    return trackList"
   ]
  },
  {
   "cell_type": "code",
   "execution_count": 25,
   "metadata": {},
   "outputs": [],
   "source": [
    "def getAttributeDF(trackFeatList):\n",
    "    trackDF = pd.DataFrame(trackFeatList)\n",
    "    trackDF = trackDF.drop(['analysis_url', 'track_href', 'type', 'uri'], axis=1)\n",
    "    return trackDF"
   ]
  },
  {
   "cell_type": "code",
   "execution_count": 57,
   "metadata": {},
   "outputs": [],
   "source": [
    "def getPlaylistTrack(play_id,user_id):\n",
    "    tracks = spotifyAPI.user_playlist_tracks(playlist_id= play_id, user_id= user_id,fields='items(track.id,track.album.name,track.name,track.artists)')\n",
    "    tracks = list(filter(None, tracks))\n",
    "    return tracks\n"
   ]
  },
  {
   "cell_type": "code",
   "execution_count": 35,
   "metadata": {},
   "outputs": [],
   "source": [
    "def trackJSONtoDF(tracks,genre):\n",
    "    flatData = []\n",
    "\n",
    "    for i in range(len(tracks['items'])):\n",
    "        trackObj = {}\n",
    "        trackObj['id'] = tracks['items'][i]['track']['id']\n",
    "        trackObj['album'] = tracks['items'][i]['track']['album']['name']\n",
    "        trackObj['track_name'] = tracks['items'][i]['track']['name']\n",
    "        trackObj['artist'] = tracks['items'][i]['track']['artists'][0]['name']\n",
    "        trackObj['genre'] = genre\n",
    "        flatData.append(trackObj)\n",
    "    return pd.DataFrame(flatData)"
   ]
  },
  {
   "cell_type": "code",
   "execution_count": 36,
   "metadata": {},
   "outputs": [],
   "source": [
    "def pipeLineFunc(play_id,user_id,genre):\n",
    "    # Fetch playlist tracks\n",
    "    plTracks = getPlaylistTrack(play_id,user_id)\n",
    "    \n",
    "    if plTracks != ['items']:\n",
    "    \n",
    "        # Convert to DF\n",
    "        plTracksDF =  trackJSONtoDF(plTracks,genre)\n",
    "\n",
    "        # Get list of track ids\n",
    "        trackIds = list(plTracksDF['id'])\n",
    "\n",
    "        # Get tracks features\n",
    "        trackFeat = getTrackAttributes(trackIds)\n",
    "\n",
    "        # Convert JSON to DF\n",
    "        trackFeatDF = getAttributeDF(trackFeat)\n",
    "\n",
    "        # Merging 2 data frames\n",
    "        resultDF = pd.concat([plTracksDF, trackFeatDF], axis=1, join='inner')\n",
    "\n",
    "        # Droping duplicate ID columns\n",
    "        resultDF = resultDF.T.drop_duplicates().T\n",
    "    else:\n",
    "        resultDF = pd.DataFrame()\n",
    "\n",
    "    return resultDF\n",
    "    \n",
    "    "
   ]
  },
  {
   "cell_type": "code",
   "execution_count": 11,
   "metadata": {},
   "outputs": [
    {
     "data": {
      "text/html": [
       "<div>\n",
       "<style>\n",
       "    .dataframe thead tr:only-child th {\n",
       "        text-align: right;\n",
       "    }\n",
       "\n",
       "    .dataframe thead th {\n",
       "        text-align: left;\n",
       "    }\n",
       "\n",
       "    .dataframe tbody tr th {\n",
       "        vertical-align: top;\n",
       "    }\n",
       "</style>\n",
       "<table border=\"1\" class=\"dataframe\">\n",
       "  <thead>\n",
       "    <tr style=\"text-align: right;\">\n",
       "      <th></th>\n",
       "      <th>album</th>\n",
       "      <th>artist</th>\n",
       "      <th>genre</th>\n",
       "      <th>id</th>\n",
       "      <th>track_name</th>\n",
       "      <th>acousticness</th>\n",
       "      <th>danceability</th>\n",
       "      <th>duration_ms</th>\n",
       "      <th>energy</th>\n",
       "      <th>instrumentalness</th>\n",
       "      <th>key</th>\n",
       "      <th>liveness</th>\n",
       "      <th>loudness</th>\n",
       "      <th>mode</th>\n",
       "      <th>speechiness</th>\n",
       "      <th>tempo</th>\n",
       "      <th>time_signature</th>\n",
       "      <th>valence</th>\n",
       "    </tr>\n",
       "  </thead>\n",
       "  <tbody>\n",
       "    <tr>\n",
       "      <th>0</th>\n",
       "      <td>In My Blood</td>\n",
       "      <td>Shawn Mendes</td>\n",
       "      <td>top100</td>\n",
       "      <td>79jX8RM5CgPqDKdGEKNW9K</td>\n",
       "      <td>In My Blood</td>\n",
       "      <td>0.0524</td>\n",
       "      <td>0.628</td>\n",
       "      <td>211600</td>\n",
       "      <td>0.715</td>\n",
       "      <td>0</td>\n",
       "      <td>5</td>\n",
       "      <td>0.119</td>\n",
       "      <td>-7.097</td>\n",
       "      <td>1</td>\n",
       "      <td>0.0541</td>\n",
       "      <td>139.991</td>\n",
       "      <td>4</td>\n",
       "      <td>0.429</td>\n",
       "    </tr>\n",
       "    <tr>\n",
       "      <th>1</th>\n",
       "      <td>Dos Minutos</td>\n",
       "      <td>DULCE LÓPEZ</td>\n",
       "      <td>top100</td>\n",
       "      <td>5lGRrpyncZwEXXs4O5vGt8</td>\n",
       "      <td>Dos Minutos</td>\n",
       "      <td>0.393</td>\n",
       "      <td>0.588</td>\n",
       "      <td>245380</td>\n",
       "      <td>0.798</td>\n",
       "      <td>0</td>\n",
       "      <td>6</td>\n",
       "      <td>0.109</td>\n",
       "      <td>-4.126</td>\n",
       "      <td>1</td>\n",
       "      <td>0.0615</td>\n",
       "      <td>155.713</td>\n",
       "      <td>4</td>\n",
       "      <td>0.698</td>\n",
       "    </tr>\n",
       "    <tr>\n",
       "      <th>2</th>\n",
       "      <td>Scary Hours</td>\n",
       "      <td>Drake</td>\n",
       "      <td>top100</td>\n",
       "      <td>2XW4DbS6NddZxRPm5rMCeY</td>\n",
       "      <td>God's Plan</td>\n",
       "      <td>0.0244</td>\n",
       "      <td>0.753</td>\n",
       "      <td>198960</td>\n",
       "      <td>0.454</td>\n",
       "      <td>5.62e-05</td>\n",
       "      <td>7</td>\n",
       "      <td>0.498</td>\n",
       "      <td>-9.488</td>\n",
       "      <td>1</td>\n",
       "      <td>0.0963</td>\n",
       "      <td>77.17</td>\n",
       "      <td>4</td>\n",
       "      <td>0.344</td>\n",
       "    </tr>\n",
       "    <tr>\n",
       "      <th>3</th>\n",
       "      <td>Dua Lipa (Deluxe)</td>\n",
       "      <td>Dua Lipa</td>\n",
       "      <td>top100</td>\n",
       "      <td>2ekn2ttSfGqwhhate0LSR0</td>\n",
       "      <td>New Rules</td>\n",
       "      <td>0.00256</td>\n",
       "      <td>0.771</td>\n",
       "      <td>208827</td>\n",
       "      <td>0.696</td>\n",
       "      <td>9.71e-06</td>\n",
       "      <td>9</td>\n",
       "      <td>0.179</td>\n",
       "      <td>-6.258</td>\n",
       "      <td>0</td>\n",
       "      <td>0.0755</td>\n",
       "      <td>116.054</td>\n",
       "      <td>4</td>\n",
       "      <td>0.656</td>\n",
       "    </tr>\n",
       "    <tr>\n",
       "      <th>4</th>\n",
       "      <td>Finesse (Remix) [feat. Cardi B]</td>\n",
       "      <td>Bruno Mars</td>\n",
       "      <td>top100</td>\n",
       "      <td>3Vo4wInECJQuz9BIBMOu8i</td>\n",
       "      <td>Finesse (Remix) [feat. Cardi B]</td>\n",
       "      <td>0.0185</td>\n",
       "      <td>0.704</td>\n",
       "      <td>217289</td>\n",
       "      <td>0.859</td>\n",
       "      <td>0</td>\n",
       "      <td>5</td>\n",
       "      <td>0.0215</td>\n",
       "      <td>-4.877</td>\n",
       "      <td>0</td>\n",
       "      <td>0.0996</td>\n",
       "      <td>105.115</td>\n",
       "      <td>4</td>\n",
       "      <td>0.926</td>\n",
       "    </tr>\n",
       "  </tbody>\n",
       "</table>\n",
       "</div>"
      ],
      "text/plain": [
       "                             album        artist   genre  \\\n",
       "0                      In My Blood  Shawn Mendes  top100   \n",
       "1                      Dos Minutos   DULCE LÓPEZ  top100   \n",
       "2                      Scary Hours         Drake  top100   \n",
       "3                Dua Lipa (Deluxe)      Dua Lipa  top100   \n",
       "4  Finesse (Remix) [feat. Cardi B]    Bruno Mars  top100   \n",
       "\n",
       "                       id                       track_name acousticness  \\\n",
       "0  79jX8RM5CgPqDKdGEKNW9K                      In My Blood       0.0524   \n",
       "1  5lGRrpyncZwEXXs4O5vGt8                      Dos Minutos        0.393   \n",
       "2  2XW4DbS6NddZxRPm5rMCeY                       God's Plan       0.0244   \n",
       "3  2ekn2ttSfGqwhhate0LSR0                        New Rules      0.00256   \n",
       "4  3Vo4wInECJQuz9BIBMOu8i  Finesse (Remix) [feat. Cardi B]       0.0185   \n",
       "\n",
       "  danceability duration_ms energy instrumentalness key liveness loudness mode  \\\n",
       "0        0.628      211600  0.715                0   5    0.119   -7.097    1   \n",
       "1        0.588      245380  0.798                0   6    0.109   -4.126    1   \n",
       "2        0.753      198960  0.454         5.62e-05   7    0.498   -9.488    1   \n",
       "3        0.771      208827  0.696         9.71e-06   9    0.179   -6.258    0   \n",
       "4        0.704      217289  0.859                0   5   0.0215   -4.877    0   \n",
       "\n",
       "  speechiness    tempo time_signature valence  \n",
       "0      0.0541  139.991              4   0.429  \n",
       "1      0.0615  155.713              4   0.698  \n",
       "2      0.0963    77.17              4   0.344  \n",
       "3      0.0755  116.054              4   0.656  \n",
       "4      0.0996  105.115              4   0.926  "
      ]
     },
     "execution_count": 11,
     "metadata": {},
     "output_type": "execute_result"
    }
   ],
   "source": [
    "res = pipeLineFunc('2kpoUUJ5a4Cw3feTkFJhZ2','1276640268','top100')\n",
    "res.head()"
   ]
  },
  {
   "cell_type": "code",
   "execution_count": 12,
   "metadata": {},
   "outputs": [],
   "source": [
    "res.to_csv('billboardTop100.csv'"
   ]
  },
  {
   "cell_type": "code",
   "execution_count": 13,
   "metadata": {},
   "outputs": [
    {
     "data": {
      "text/plain": [
       "Index(['album', 'artist', 'genre', 'id', 'track_name', 'acousticness',\n",
       "       'danceability', 'duration_ms', 'energy', 'instrumentalness', 'key',\n",
       "       'liveness', 'loudness', 'mode', 'speechiness', 'tempo',\n",
       "       'time_signature', 'valence'],\n",
       "      dtype='object')"
      ]
     },
     "execution_count": 13,
     "metadata": {},
     "output_type": "execute_result"
    }
   ],
   "source": [
    "res.columns"
   ]
  },
  {
   "cell_type": "code",
   "execution_count": 29,
   "metadata": {},
   "outputs": [],
   "source": [
    "playListData = [{'user':'spotify','playlist_id':'37i9dQZF1DWTwnEm1IYyoj','genre':'Pop'},\n",
    "{'user':'1154148597','playlist_id':'03Wky4J3HehgLEqgkYmia6','genre':'Pop'},\n",
    "{'user':'spotify','playlist_id':'37i9dQZF1DX5CHqBODmn2c','genre':'Pop'},\n",
    "{'user':'1123398699','playlist_id':'23o2085ZcSb5V3yVxnHj9c','genre':'Pop'},\n",
    "{'user':'1180623169','playlist_id':'2yTNGJu0CWKIms9vhpOPeY','genre':'Pop'},\n",
    "{'user':'1288831866','playlist_id':'0lvwSeY2Og8XyileVyWZ1v','genre':'Pop'},\n",
    "{'user':'dominic.rupp','playlist_id':'2zu4FqqzubZK4oXAZFEL4L','genre':'Pop'},\n",
    "{'user':'redmusiccompany','playlist_id':'3U25AXqlklo3o6LqM1wX1I','genre':'Country'},\n",
    "{'user':'1276364988','playlist_id':'7fIdjWhWzPbf1g5OSDKOXw','genre':'Country'},\n",
    "{'user':'spotify','playlist_id':'37i9dQZF1DX13ZzXoot6Jc','genre':'Country'},\n",
    "{'user':'spotify','playlist_id':'37i9dQZF1DX68H8ZujdnN7','genre':'Rock'},\n",
    "{'user':'spotify','playlist_id':'37i9dQZF1DWZn9s1LNKPiM','genre':'Rock'},\n",
    "{'user':'spotify','playlist_id':'37i9dQZF1DWWwzidNQX6jx','genre':'Rock'},\n",
    "{'user':'sheffield806','playlist_id':'45vvbQl0GL7Niubb3H0U2Y','genre':'Rock'},\n",
    "{'user':'redmusiccompany','playlist_id':'3yhmzZlOnRMCFV7PuMFPKy','genre':'Rock'},\n",
    "{'user':'spotify','playlist_id':'37i9dQZF1DX12YIlzNkccL','genre':'Classical'},\n",
    "{'user':'spotify','playlist_id':'37i9dQZF1DX8qqIDAkKiQg','genre':'Classical'},\n",
    "{'user':'1269890947','playlist_id':'6Jn7zgkmA29infIRmptveP','genre':'Classical'},\n",
    "{'user':'merovingin','playlist_id':'0ZRwrJ2EDGyKR6YgQPWXeO','genre':'Hip Hop'},\n",
    "{'user':'akime1212','playlist_id':'2eY9lPvBKkluNSpeYJo71a','genre':'Hip Hop'},\n",
    "{'user':'19jconnell79','playlist_id':'5772HGqmp2E99GQo5tfmcJ','genre':'Hip Hop'},\n",
    "{'user':'1113721529','playlist_id':'0t3Mn6bXtPNWWZK6x9DtBH','genre':'Hip Hop'},\n",
    "{'user':'playstation_music','playlist_id':'2NoR0KhNZ8oZnC3HoNt2FV','genre':'Hip Hop'},\n",
    "{'user':'spotify','playlist_id':'37i9dQZF1DX8GjsySWIS1x','genre':'Gaming'},\n",
    "{'user':'spotify','playlist_id':'37i9dQZF1DWYnY33e7En9e','genre':'Gaming'},\n",
    "{'user':'1274440778','playlist_id':'5fdipI1K5g6ij4gCP8SvLj','genre':'Gaming'},\n",
    "{'user':'spotify','playlist_id':'37i9dQZF1DX6AIf8KmeDe7','genre':'Gaming'},\n",
    "{'user':'emma.ehrhardt','playlist_id':'0QApAL6CpODIMyweRdAvM4','genre':'Gaming'},\n",
    "{'user':'spotify','playlist_id':'37i9dQZF1DX0SM0LYsmbMT','genre':'Jazz'},\n",
    "{'user':'spotify','playlist_id':'37i9dQZF1DWVqfgj8NZEp1','genre':'Jazz'},\n",
    "{'user':'spotify','playlist_id':'37i9dQZF1DX7YCknf2jT6s','genre':'Jazz'},\n",
    "{'user':'spotify','playlist_id':'37i9dQZF1DWVzZlRWgqAGH','genre':'Jazz'},\n",
    "{'user':'starbucks','playlist_id':'2UPjWBRjJqMQY3LRV2aDTS','genre':'Jazz'},\n",
    "{'user':'spotify','playlist_id':'37i9dQZF1DWSiyIBdVQrkk','genre':'reggae'},\n",
    "{'user':'boogalooboo','playlist_id':'4gRio043A2No9SRU7ERq6q','genre':'reggae'},\n",
    "{'user':'constantinex','playlist_id':'0s8tfHVdQa8duFMev3ZlgD','genre':'reggae'},\n",
    "{'user':'constantinex','playlist_id':'53iDeoyHodextygU8wpras','genre':'reggae'},\n",
    "{'user':'jmelendez1024','playlist_id':'0ka9e6tQIfLXVSNXraZxNz','genre':'reggae'},\n",
    "{'user':'spotify','playlist_id':'37i9dQZF1DX2ohL85TE8TI','genre':'K-pop'},\n",
    "{'user':'spotify','playlist_id':'37i9dQZF1DXbirtHQBuwCo','genre':'K-pop'},\n",
    "{'user':'spotify','playlist_id':'37i9dQZF1DX5eq3AONkaho','genre':'K-pop'},\n",
    "{'user':'thehela1997','playlist_id':'4c1DULvTgCGWcTETJrra5A','genre':'K-pop'},\n",
    "{'user':'12165116393','playlist_id':'3OWkXYSwYzKeN64mCqkouR','genre':'K-pop'}]"
   ]
  },
  {
   "cell_type": "code",
   "execution_count": 30,
   "metadata": {},
   "outputs": [],
   "source": [
    "playlistDF = pd.DataFrame(playListData)"
   ]
  },
  {
   "cell_type": "code",
   "execution_count": 31,
   "metadata": {},
   "outputs": [
    {
     "data": {
      "text/plain": [
       "'03Wky4J3HehgLEqgkYmia6'"
      ]
     },
     "execution_count": 31,
     "metadata": {},
     "output_type": "execute_result"
    }
   ],
   "source": [
    "playlistDF[\"playlist_id\"][1]"
   ]
  },
  {
   "cell_type": "code",
   "execution_count": 37,
   "metadata": {},
   "outputs": [
    {
     "ename": "TypeError",
     "evalue": "list indices must be integers or slices, not str",
     "output_type": "error",
     "traceback": [
      "\u001b[0;31m---------------------------------------------------------------------------\u001b[0m",
      "\u001b[0;31mTypeError\u001b[0m                                 Traceback (most recent call last)",
      "\u001b[0;32m<ipython-input-37-99205f0aa83e>\u001b[0m in \u001b[0;36m<module>\u001b[0;34m()\u001b[0m\n\u001b[1;32m      1\u001b[0m \u001b[0mtrackDFMain\u001b[0m \u001b[0;34m=\u001b[0m \u001b[0mpd\u001b[0m\u001b[0;34m.\u001b[0m\u001b[0mDataFrame\u001b[0m\u001b[0;34m(\u001b[0m\u001b[0;34m)\u001b[0m\u001b[0;34m\u001b[0m\u001b[0m\n\u001b[1;32m      2\u001b[0m \u001b[0;32mfor\u001b[0m \u001b[0mi\u001b[0m \u001b[0;32min\u001b[0m \u001b[0mrange\u001b[0m\u001b[0;34m(\u001b[0m\u001b[0mlen\u001b[0m\u001b[0;34m(\u001b[0m\u001b[0mplaylistDF\u001b[0m\u001b[0;34m)\u001b[0m\u001b[0;34m)\u001b[0m\u001b[0;34m:\u001b[0m\u001b[0;34m\u001b[0m\u001b[0m\n\u001b[0;32m----> 3\u001b[0;31m     \u001b[0mresDF\u001b[0m \u001b[0;34m=\u001b[0m \u001b[0mpipeLineFunc\u001b[0m\u001b[0;34m(\u001b[0m\u001b[0mplaylistDF\u001b[0m\u001b[0;34m[\u001b[0m\u001b[0;34m\"playlist_id\"\u001b[0m\u001b[0;34m]\u001b[0m\u001b[0;34m[\u001b[0m\u001b[0mi\u001b[0m\u001b[0;34m]\u001b[0m\u001b[0;34m,\u001b[0m\u001b[0mplaylistDF\u001b[0m\u001b[0;34m[\u001b[0m\u001b[0;34m\"user\"\u001b[0m\u001b[0;34m]\u001b[0m\u001b[0;34m[\u001b[0m\u001b[0mi\u001b[0m\u001b[0;34m]\u001b[0m\u001b[0;34m,\u001b[0m\u001b[0mplaylistDF\u001b[0m\u001b[0;34m[\u001b[0m\u001b[0;34m\"genre\"\u001b[0m\u001b[0;34m]\u001b[0m\u001b[0;34m[\u001b[0m\u001b[0mi\u001b[0m\u001b[0;34m]\u001b[0m\u001b[0;34m)\u001b[0m\u001b[0;34m\u001b[0m\u001b[0m\n\u001b[0m\u001b[1;32m      4\u001b[0m     \u001b[0mtrackDFMain\u001b[0m \u001b[0;34m=\u001b[0m \u001b[0mtrackDFMain\u001b[0m\u001b[0;34m.\u001b[0m\u001b[0mappend\u001b[0m\u001b[0;34m(\u001b[0m\u001b[0mresDF\u001b[0m\u001b[0;34m)\u001b[0m\u001b[0;34m\u001b[0m\u001b[0m\n",
      "\u001b[0;32m<ipython-input-36-069181c46610>\u001b[0m in \u001b[0;36mpipeLineFunc\u001b[0;34m(play_id, user_id, genre)\u001b[0m\n\u001b[1;32m      4\u001b[0m \u001b[0;34m\u001b[0m\u001b[0m\n\u001b[1;32m      5\u001b[0m     \u001b[0;31m# Convert to DF\u001b[0m\u001b[0;34m\u001b[0m\u001b[0;34m\u001b[0m\u001b[0m\n\u001b[0;32m----> 6\u001b[0;31m     \u001b[0mplTracksDF\u001b[0m \u001b[0;34m=\u001b[0m  \u001b[0mtrackJSONtoDF\u001b[0m\u001b[0;34m(\u001b[0m\u001b[0mplTracks\u001b[0m\u001b[0;34m,\u001b[0m\u001b[0mgenre\u001b[0m\u001b[0;34m)\u001b[0m\u001b[0;34m\u001b[0m\u001b[0m\n\u001b[0m\u001b[1;32m      7\u001b[0m \u001b[0;34m\u001b[0m\u001b[0m\n\u001b[1;32m      8\u001b[0m     \u001b[0;31m# Get list of track ids\u001b[0m\u001b[0;34m\u001b[0m\u001b[0;34m\u001b[0m\u001b[0m\n",
      "\u001b[0;32m<ipython-input-35-4527b979ccdb>\u001b[0m in \u001b[0;36mtrackJSONtoDF\u001b[0;34m(tracks, genre)\u001b[0m\n\u001b[1;32m      2\u001b[0m     \u001b[0mflatData\u001b[0m \u001b[0;34m=\u001b[0m \u001b[0;34m[\u001b[0m\u001b[0;34m]\u001b[0m\u001b[0;34m\u001b[0m\u001b[0m\n\u001b[1;32m      3\u001b[0m \u001b[0;34m\u001b[0m\u001b[0m\n\u001b[0;32m----> 4\u001b[0;31m     \u001b[0;32mfor\u001b[0m \u001b[0mi\u001b[0m \u001b[0;32min\u001b[0m \u001b[0mrange\u001b[0m\u001b[0;34m(\u001b[0m\u001b[0mlen\u001b[0m\u001b[0;34m(\u001b[0m\u001b[0mtracks\u001b[0m\u001b[0;34m[\u001b[0m\u001b[0;34m'items'\u001b[0m\u001b[0;34m]\u001b[0m\u001b[0;34m)\u001b[0m\u001b[0;34m)\u001b[0m\u001b[0;34m:\u001b[0m\u001b[0;34m\u001b[0m\u001b[0m\n\u001b[0m\u001b[1;32m      5\u001b[0m         \u001b[0mtrackObj\u001b[0m \u001b[0;34m=\u001b[0m \u001b[0;34m{\u001b[0m\u001b[0;34m}\u001b[0m\u001b[0;34m\u001b[0m\u001b[0m\n\u001b[1;32m      6\u001b[0m         \u001b[0mtrackObj\u001b[0m\u001b[0;34m[\u001b[0m\u001b[0;34m'id'\u001b[0m\u001b[0;34m]\u001b[0m \u001b[0;34m=\u001b[0m \u001b[0mtracks\u001b[0m\u001b[0;34m[\u001b[0m\u001b[0;34m'items'\u001b[0m\u001b[0;34m]\u001b[0m\u001b[0;34m[\u001b[0m\u001b[0mi\u001b[0m\u001b[0;34m]\u001b[0m\u001b[0;34m[\u001b[0m\u001b[0;34m'track'\u001b[0m\u001b[0;34m]\u001b[0m\u001b[0;34m[\u001b[0m\u001b[0;34m'id'\u001b[0m\u001b[0;34m]\u001b[0m\u001b[0;34m\u001b[0m\u001b[0m\n",
      "\u001b[0;31mTypeError\u001b[0m: list indices must be integers or slices, not str"
     ]
    }
   ],
   "source": [
    "trackDFMain = pd.DataFrame()\n",
    "for i in range(len(playlistDF)):\n",
    "    resDF = pipeLineFunc(playlistDF[\"playlist_id\"][i],playlistDF[\"user\"][i],playlistDF[\"genre\"][i])\n",
    "    trackDFMain = trackDFMain.append(resDF)"
   ]
  },
  {
   "cell_type": "code",
   "execution_count": 38,
   "metadata": {},
   "outputs": [],
   "source": [
    "trackDFMain = pd.DataFrame()"
   ]
  },
  {
   "cell_type": "code",
   "execution_count": 39,
   "metadata": {},
   "outputs": [
    {
     "ename": "TypeError",
     "evalue": "list indices must be integers or slices, not str",
     "output_type": "error",
     "traceback": [
      "\u001b[0;31m---------------------------------------------------------------------------\u001b[0m",
      "\u001b[0;31mTypeError\u001b[0m                                 Traceback (most recent call last)",
      "\u001b[0;32m<ipython-input-39-3d1f30223f89>\u001b[0m in \u001b[0;36m<module>\u001b[0;34m()\u001b[0m\n\u001b[0;32m----> 1\u001b[0;31m \u001b[0mres\u001b[0m \u001b[0;34m=\u001b[0m \u001b[0mpipeLineFunc\u001b[0m\u001b[0;34m(\u001b[0m\u001b[0;34m'37i9dQZF1DWTwnEm1IYyoj'\u001b[0m\u001b[0;34m,\u001b[0m\u001b[0;34m'spotify'\u001b[0m\u001b[0;34m,\u001b[0m\u001b[0;34m'Pop'\u001b[0m\u001b[0;34m)\u001b[0m\u001b[0;34m\u001b[0m\u001b[0m\n\u001b[0m\u001b[1;32m      2\u001b[0m \u001b[0mtrackDFMain\u001b[0m \u001b[0;34m=\u001b[0m \u001b[0mtrackDFMain\u001b[0m\u001b[0;34m.\u001b[0m\u001b[0mappend\u001b[0m\u001b[0;34m(\u001b[0m\u001b[0mres\u001b[0m\u001b[0;34m)\u001b[0m\u001b[0;34m\u001b[0m\u001b[0m\n",
      "\u001b[0;32m<ipython-input-36-069181c46610>\u001b[0m in \u001b[0;36mpipeLineFunc\u001b[0;34m(play_id, user_id, genre)\u001b[0m\n\u001b[1;32m      4\u001b[0m \u001b[0;34m\u001b[0m\u001b[0m\n\u001b[1;32m      5\u001b[0m     \u001b[0;31m# Convert to DF\u001b[0m\u001b[0;34m\u001b[0m\u001b[0;34m\u001b[0m\u001b[0m\n\u001b[0;32m----> 6\u001b[0;31m     \u001b[0mplTracksDF\u001b[0m \u001b[0;34m=\u001b[0m  \u001b[0mtrackJSONtoDF\u001b[0m\u001b[0;34m(\u001b[0m\u001b[0mplTracks\u001b[0m\u001b[0;34m,\u001b[0m\u001b[0mgenre\u001b[0m\u001b[0;34m)\u001b[0m\u001b[0;34m\u001b[0m\u001b[0m\n\u001b[0m\u001b[1;32m      7\u001b[0m \u001b[0;34m\u001b[0m\u001b[0m\n\u001b[1;32m      8\u001b[0m     \u001b[0;31m# Get list of track ids\u001b[0m\u001b[0;34m\u001b[0m\u001b[0;34m\u001b[0m\u001b[0m\n",
      "\u001b[0;32m<ipython-input-35-4527b979ccdb>\u001b[0m in \u001b[0;36mtrackJSONtoDF\u001b[0;34m(tracks, genre)\u001b[0m\n\u001b[1;32m      2\u001b[0m     \u001b[0mflatData\u001b[0m \u001b[0;34m=\u001b[0m \u001b[0;34m[\u001b[0m\u001b[0;34m]\u001b[0m\u001b[0;34m\u001b[0m\u001b[0m\n\u001b[1;32m      3\u001b[0m \u001b[0;34m\u001b[0m\u001b[0m\n\u001b[0;32m----> 4\u001b[0;31m     \u001b[0;32mfor\u001b[0m \u001b[0mi\u001b[0m \u001b[0;32min\u001b[0m \u001b[0mrange\u001b[0m\u001b[0;34m(\u001b[0m\u001b[0mlen\u001b[0m\u001b[0;34m(\u001b[0m\u001b[0mtracks\u001b[0m\u001b[0;34m[\u001b[0m\u001b[0;34m'items'\u001b[0m\u001b[0;34m]\u001b[0m\u001b[0;34m)\u001b[0m\u001b[0;34m)\u001b[0m\u001b[0;34m:\u001b[0m\u001b[0;34m\u001b[0m\u001b[0m\n\u001b[0m\u001b[1;32m      5\u001b[0m         \u001b[0mtrackObj\u001b[0m \u001b[0;34m=\u001b[0m \u001b[0;34m{\u001b[0m\u001b[0;34m}\u001b[0m\u001b[0;34m\u001b[0m\u001b[0m\n\u001b[1;32m      6\u001b[0m         \u001b[0mtrackObj\u001b[0m\u001b[0;34m[\u001b[0m\u001b[0;34m'id'\u001b[0m\u001b[0;34m]\u001b[0m \u001b[0;34m=\u001b[0m \u001b[0mtracks\u001b[0m\u001b[0;34m[\u001b[0m\u001b[0;34m'items'\u001b[0m\u001b[0;34m]\u001b[0m\u001b[0;34m[\u001b[0m\u001b[0mi\u001b[0m\u001b[0;34m]\u001b[0m\u001b[0;34m[\u001b[0m\u001b[0;34m'track'\u001b[0m\u001b[0;34m]\u001b[0m\u001b[0;34m[\u001b[0m\u001b[0;34m'id'\u001b[0m\u001b[0;34m]\u001b[0m\u001b[0;34m\u001b[0m\u001b[0m\n",
      "\u001b[0;31mTypeError\u001b[0m: list indices must be integers or slices, not str"
     ]
    }
   ],
   "source": [
    "res = pipeLineFunc('37i9dQZF1DWTwnEm1IYyoj','spotify','Pop')\n",
    "trackDFMain = trackDFMain.append(res)\n"
   ]
  },
  {
   "cell_type": "code",
   "execution_count": 58,
   "metadata": {},
   "outputs": [
    {
     "data": {
      "text/plain": [
       "['items']"
      ]
     },
     "execution_count": 58,
     "metadata": {},
     "output_type": "execute_result"
    }
   ],
   "source": [
    "plTracks = getPlaylistTrack('37i9dQZF1DWTwnEm1IYyoj','spotify')\n",
    "    \n",
    "plTracks"
   ]
  },
  {
   "cell_type": "code",
   "execution_count": null,
   "metadata": {},
   "outputs": [],
   "source": [
    "    # Convert to DF\n",
    "plTracksDF =  trackJSONtoDF(plTracks,genre)"
   ]
  }
 ],
 "metadata": {
  "kernelspec": {
   "display_name": "Python 3",
   "language": "python",
   "name": "python3"
  },
  "language_info": {
   "codemirror_mode": {
    "name": "ipython",
    "version": 3
   },
   "file_extension": ".py",
   "mimetype": "text/x-python",
   "name": "python",
   "nbconvert_exporter": "python",
   "pygments_lexer": "ipython3",
   "version": "3.6.4"
  }
 },
 "nbformat": 4,
 "nbformat_minor": 2
}
