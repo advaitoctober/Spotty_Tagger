{
 "cells": [
  {
   "cell_type": "code",
   "execution_count": 5,
   "metadata": {
    "collapsed": true
   },
   "outputs": [],
   "source": [
    "from spotify import Client, OAuth\n",
    "import pandas as pd"
   ]
  },
  {
   "cell_type": "code",
   "execution_count": 7,
   "metadata": {
    "collapsed": true
   },
   "outputs": [],
   "source": [
    "auth = OAuth('f716b10140c04e9997c89e1d094745f6', 'b9aa1c134fe244ebaed7b3cba541f6a7')\n",
    "auth.request_client_credentials()"
   ]
  },
  {
   "cell_type": "code",
   "execution_count": 16,
   "metadata": {
    "collapsed": true
   },
   "outputs": [],
   "source": [
    "spotifyClient = Client(auth)\n",
    "spotifyAPI = spotifyClient.api"
   ]
  },
  {
   "cell_type": "code",
   "execution_count": 8,
   "metadata": {
    "collapsed": true
   },
   "outputs": [],
   "source": [
    "def getTrackAttributes(trackIdList = []):\n",
    "    print(trackIdList)\n",
    "    trackJson = spotifyAPI.tracks_audio_features(trackIdList)\n",
    "    trackList = trackJson['audio_features']\n",
    "    trackList = filter(None, trackList)\n",
    "    trackList = [x for x in trackList if x is not None]\n",
    "    return trackList"
   ]
  },
  {
   "cell_type": "code",
   "execution_count": 9,
   "metadata": {
    "collapsed": true
   },
   "outputs": [],
   "source": [
    "def  getAttributeDF(trackFeatList):\n",
    "    trackDF = pd.DataFrame(trackFeatList)\n",
    "    trackDF = trackDF.drop(['analysis_url', 'track_href', 'type', 'uri'], axis=1)\n",
    "    return trackDF"
   ]
  },
  {
   "cell_type": "code",
   "execution_count": 10,
   "metadata": {
    "collapsed": true
   },
   "outputs": [],
   "source": [
    "def getPlaylistTrack(play_id,user_id):\n",
    "    tracks = spotifyAPI.user_playlist_tracks(playlist_id= play_id, user_id= user_id,fields='items(track.id,track.album.name,track.name,track.artists)')\n",
    "    #tracks = list(filter(None, tracks))\n",
    "    return tracks"
   ]
  },
  {
   "cell_type": "code",
   "execution_count": 11,
   "metadata": {
    "collapsed": true
   },
   "outputs": [],
   "source": [
    "def trackJSONtoDF(tracks,genre):\n",
    "    flatData = []\n",
    "\n",
    "    for i in range(len(tracks['items'])):\n",
    "        trackObj = {}\n",
    "        \n",
    "        trackObj['id'] = tracks['items'][i]['track']['id']\n",
    "        trackObj['album'] = tracks['items'][i]['track']['album']['name']\n",
    "        trackObj['track_name'] = tracks['items'][i]['track']['name']\n",
    "        trackObj['artist'] = tracks['items'][i]['track']['artists'][0]['name']\n",
    "        trackObj['genre'] = genre\n",
    "        if trackObj['id'] != None:\n",
    "            flatData.append(trackObj)\n",
    "    return pd.DataFrame(flatData)"
   ]
  },
  {
   "cell_type": "code",
   "execution_count": 12,
   "metadata": {
    "collapsed": true
   },
   "outputs": [],
   "source": [
    "def pipeLineFunc(play_id,user_id,genre):\n",
    "    # Fetch playlist tracks\n",
    "    plTracks = getPlaylistTrack(play_id,user_id)\n",
    "    \n",
    "    \n",
    "    # Convert to DF\n",
    "    plTracksDF =  trackJSONtoDF(plTracks,genre)\n",
    "\n",
    "    # Get list of track ids\n",
    "    trackIds = list(plTracksDF['id'])\n",
    "\n",
    "    # Get tracks features\n",
    "    trackFeat = getTrackAttributes(trackIds)\n",
    "\n",
    "    # Convert JSON to DF\n",
    "    trackFeatDF = getAttributeDF(trackFeat)\n",
    "\n",
    "    # Merging 2 data frames\n",
    "    resultDF = pd.concat([plTracksDF, trackFeatDF], axis=1, join='inner')\n",
    "\n",
    "    # Droping duplicate ID columns\n",
    "    resultDF = resultDF.T.drop_duplicates().T\n",
    "\n",
    "    return resultDF"
   ]
  },
  {
   "cell_type": "code",
   "execution_count": 13,
   "metadata": {
    "collapsed": true
   },
   "outputs": [],
   "source": [
    "playListData = [{'user':'spotify','playlist_id':'37i9dQZF1DWWwzidNQX6jx','genre':'70sRock'},\n",
    "{'user':'rb89vh0sf6cjkviw4mf1ymvww','playlist_id':'5VeYoZzAUNyLw4LaMtTz1v','genre':'2000sRock'}]\n"
   ]
  },
  {
   "cell_type": "code",
   "execution_count": 14,
   "metadata": {},
   "outputs": [
    {
     "name": "stdout",
     "output_type": "stream",
     "text": [
      "       genre             playlist_id                       user\n",
      "0    70sRock  37i9dQZF1DWWwzidNQX6jx                    spotify\n",
      "1  2000sRock  5VeYoZzAUNyLw4LaMtTz1v  rb89vh0sf6cjkviw4mf1ymvww\n"
     ]
    }
   ],
   "source": [
    "playlistDF = pd.DataFrame(playListData)\n",
    "print(playlistDF)"
   ]
  },
  {
   "cell_type": "code",
   "execution_count": 17,
   "metadata": {},
   "outputs": [
    {
     "name": "stdout",
     "output_type": "stream",
     "text": [
      "['2GAIycsMaDVtMtdvxzR2xI', '5CQ30WqJwcep0pYcV4AMNc', '40riOy7x9W7GXjyGp4pjAv', '5jzma6gCzYtKB1DbEwFZKH', '14XWXWv5FoCbFzLksawpEe', '6KTv0Z8BmVqM7DPxbGzpVC', '02DurCgOvDdX0uKEjqcl3W', '0LrwgdLsFaWh9VXIjBRe8t', '3Bh6uInhcVBVvLraGZdkKD', '1IqFh00G2kvvMm8pRMpehA', '52dm9op3rbfAkc1LGXgipW', '7pKfPomDEeI4TPT6EOYjn9', '7iN1s7xHE4ifF5povM6A48', '5MxNLUsfh7uzROypsoO5qe', '0SYRVn2YF7HBscQEmlkpTI', '2zYzyRzz6pRmhPzyfMEC8s', '6FsQrRpBLgsrFeAeiQqytm', '5SAUIWdZ04OxYfJFDchC7S', '4YMQXzscifAREG0a7KNGhB', '5xD021bM8VbqrhCVhxRozx', '5EWPGh7jbTNO2wakv8LjUI', '3ykSdTGmYPFl8pDBXer1zG', '0UAJH0k4k3slcE83a9UGCe', '3qT4bUD1MaWpGrTwcvguhb', '4KcH1ZRV2W1q7Flq0QqC76', '1JkZg3eMQTmTn93E8Yd3UL', '6PmckFG2BhEELc5OM7O7DS', '7kNNylJ1kswWbHeRM6UDuE', '7MRyJPksH3G2cXHN8UKYzP', '05uGBKRCuePsf43Hfm0JwX', '5HNCy40Ni5BZJFw1TKzRsC', '6hTcuIQa0sxrrByu9wTD7s', '2kkvB3RNRzwjFdGhaUA0tz', '4alHo6RGd0D3OUbTPExTHN', '3LoDeIbiR12sAznmpNEmKA', '2QgWuCtBpNIpl5trmKCxRf', '5UuikgHTxSRFRnC0zXx10i', '0Rp4akmfqBTpbDM6EoqtNy', '3IOQZRcEkplCXg6LofKqE9', '43DeSV93pJPT4lCZaWZ6b1', '5SZ6zX4rOrEQferfFC2MfP', '1r3kj1yMff7ilIsR7hpvUo', '1bp2IO61zbQrbWNmKKxg3f', '54flyrjcdnQdco7300avMJ', '5p3JunprHCxClJjOmcLV8G', '61UuPxxYUvacEH6SHIK3sU', '3LQPTJEqOfljGBxmpgUnoC', '5QTxFnGygVM4jFQiBovmRo', '5IRWgQiN0c2i4U97iE3OoY', '4MZEZz8MqVgvIMXU6AVP22', '6cr6UDpkjEaMQ80OjWqEBQ', '3gdewACMIVMEWVbyb8O9sY', '0ofHAoxe9vBkTCp2UQIavz', '7ccI9cStQbQdystvc6TvxD', '4Ich2datyOWMWvdNjksBDT', '7K6xMPtAjTuLPNlJMLf5bS', '0YveezON7jpiaHA8fnUHxN', '2Q7LpkYrS0PBpoq3iCqypa', '3LcYYV9ozePfgYYmXv0P3r', '0qdQUeKVyevrbKhAo0ibxS', '3qiyyUfYe7CRYLucrPmulD', '0a4agFmqHXxcZl1nho1BxM', '1HOMkjp0nHMaTnfAkslCQj', '5Wj1rJnCLpMHdLaxsFtJLs', '5ZYvcJ04ccUw2Matbnmu0U', '6Vcwr9tb3ZLO63F8DL8cqu', '3KhF2YiNpJvGpfiCW45R6D', '5H8xFHau0x3PI1CssO6EaX', '0WNGPpmWqzPnk0psUhJ3SX', '2ZMEdXxVSRfMshCDBMjt0o', '4cKJsZuzbNBpdxeMC9pBQG', '4KfSdst7rW39C0sfhArdrz', '3Pu3IChaAoa5EjgUBv5F6x', '2ZOTtG7v1OrSNs6EINIGb4', '77oU2rjC5XbjQfNe3bD6so', '1H4idkmruFoJBg1DvUv2tY', '5x53pbGk6sbl1BGom19QQ5', '4DMKwE2E2iYDKY01C335Uw', '0SvfyHYDp2uIsHt53LDlI9', '6l8EbYRtQMgKOyc1gcDHF9', '1US01PIcb3RFVrcN8mO8CS', '3DnzFhjydj8XXtCAnVKz14', '30jsPpxLvSCYTTTtdjRzBp', '7cy1bEJV6FCtDaYpsk8aG6', '39C5FuZ8C8M0QI8CrMsPkR', '11G0yprQtMU53BLPMSr093', '6XUHsYE38CEbYunT983O9G', '3QcuZo6WLcFkqqLmDs0d95', '3KPwt1LBpt1jVSHz8GXERo', '3rHHxve6ZpvjRM9bqTu4tL', '6DmfWj5kOa1fX8AwN9byOn', '2Nt7pyRux0CB8i2KB4DMVT', '6HSXNV0b4M4cLJ7ljgVVeh', '7Hx2EA4wGaxtsiZCVVLV1i', '6gXrEUzibufX9xYPk3HD5p', '2wvMC5EyaaYQwBfiwwY2xE', '0MYNeFsKpzBHwrJGfWZysV', '4CqbJHZ6JtVM3MLh41y7JI', '2hdNya0b6Cc2YJ8IyaQIWp', '2g7gviEeJr6pyxO7G35EWQ']\n",
      "['6nTiIhLmQ3FWhvrGafw2zj', '5PZ2cqh9Yem2g6cTSOLllz', '3jfr0TF6DQcOLat8gGn7E2', '7clUVcSOtkNWa58Gw5RfD4', '2piWbL2kwFYxcAEA3VD3F3', '6HcP6EzBwkMXDGbKEJci8o', '4WUB41cJYgrMXJs9Q0fGeM', '4EV5e8cPSZmPPWI2BJoFgB', '11LmqTE2naFULdEP94AUBa', '5Rizj5FLb2AyNKu9esjYY6', '2JLMHADAyossZlBcpc8TDs', '0DVxWV6V1nWa7Ml68Frd3D', '6uzuW7L1t1UhnzbfXwtMtQ', '7IiqF2tYiixnpBcFjkocjA', '4ORXSxr4tV5H6gH5KHAiAh', '60Ih7J2Q1o9shvMC2OAALu', '5YHhxbtAAkOiIXqNBfYjZU', '6uhvuMDb93ANzVxNABDgf1', '1Ekb2XIjYBBWiZ4tge6r7o', '1060gzllf4b0UETAXisR5l', '5LlsD7LdSMkGV4Iu0a2Zq0', '5cm47Nc1MWBVIkRFaXxvHY', '06ClI3XK2FPR5uP8tPcFS1', '2mwnYvlLVP465u9V9wjUGj', '7fC2VKgYfCW68vlMhmcaAj', '1Po4pby30EDHDFUKGE9hgJ', '1auUyL63z3sWnBhooTnz31', '1aKNbn5AsDWydycvr1gYBa', '7ID1obCK75QsDQuf9pEVxK', '3n4r9HS59J2Utzr9wHbte4', '3Yuh56cNGXe2QiinzgIa9G', '1oFMlFBjzs9xs9ZgLaPK7B', '38YclYWc3cxYdHoYxZ79jN', '0yTJtxZJ5VLfBEHhiNUNeY', '6L3VWDPDTQkQFkqvmpAUMU', '5Az8KU81g2aLBbJN67F2CI', '1UqhkbzB1kuFwt2iy4h29Q', '1KDYN3odJHnj9pqGHN3FVs', '165lX6DbMhTzqODVZKLmkm', '5UMD1Iz7yyVK8Q5FLsVt3q', '6GsP3uMCd0Dn5T37C93waZ', '0cv2LgkvEoQiGgFWcZaAMA', '0pjCkLjbgSLn5c0Ilwuv8z', '0SMzXgUFqcAt0WNCsGm3tM', '5y7IfSDhBHFVnlGj1UrlA1', '4VGvosVIeFMCUwHibq7a9Z', '1ZPMK5UTafelYEQXmckRgN', '2pAho4WqtK5hQtgImHzT74', '4RU7rnJBOXCzWmsLDqUaFC', '1f2V8U1BiWaC9aJWmpOARe', '3SFXsFpeGmBTtQvKiwYMDA', '4EchqUKQ3qAQuRNKmeIpnf', '0sNKiz82ATCvT3f3XVVUUj', '5JJDu0Z5DKe7mR31MGksSg', '1FkoVC85Ds3mFoK0fVqEqP', '0D2A4Rid7gnlcwlspLTkx0', '6gfDXAX85YWdVwxpbz0npv', '6hwQ69v7VbPhTTR2fOtYX7', '01MBhRpvFkbeRwAp7gcF2W', '6EE19skJ32p58xihYj2Waa', '44TuSOP6xIAEeJmZsN3nXO', '1fJFuvU2ldmeAm5nFIHcPP', '4fO7Gu49wwuiq3tCkqUJ46', '42cgflAdNgI0TrQM8BqvxI', '6XtrMjkNfRb0XjmlzefbJq', '0mrpC8W7QexL1SyNHjZY9n', '4vVUoi4U6ikqH2wIoE2fmG', '6M9vEm3Cy3PHr3QkXRX6x3', '0criiQKIY1hyU0lRbVhZ8L', '36ECEkodXYhLPyBHjZCEHh', '4j41Du0uMXJrfEY7Xe9CDO', '4rY7wYNEsPpa5vFw6OlXIy', '2MMrjobPrVLrozyfFXsFJx', '17DmJXyncq1Wg2s6tGMQyf', '2cxbNLOKc9CtQ7hcH88ma3', '2gY3Z3f1Qe4vWnw15dBkSw', '0XT70Wk9pP8JZkmJhfntuL', '28urem2KpSOkljclEk8X8G', '47fPXkWBYmYLcRCGrXgoYq', '4e9eGQYsOiBcftrWXwsVco', '1VNWaY3uNfoeWqb5U8x2QX', '6oO7WMjD6kEvCITLbVj0mu', '0GrHWVTDsaWcD4nrCGr7VE', '1x0AirtLjfVquI0A9iBVep', '3AoSuIey90cH9PI8HUoHOQ', '0u8JzRt0TAwSyCl2lPTQmE', '3Q8zopc4ABXhysDb1sgLVW', '4akbPW1whJ6VDvXYeTA3vX', '6c9xVWbPeVPgrmWTYYeMTr', '0ydgFPcYrxaHgVuLd17mjh', '3SP1LUtLle97QNFvFFopnG', '5o9ikk4ATCfq3NNVQJXDpc', '1q9ru9Wx2Q9Ez8irkGcyFa', '6gZVQvQZOFpzIy3HblJ20F', '0wvIGFIgbyz4JNwQhZgTv2', '4A065x9kJt955eGVqf813g', '7FRfYOql61DGDp9VPPe2qA', '2EoOZnxNgtmZaD8uUmz2nD', '1jMaB19DiVR8OihLSuYFOt', '1wlKw9NAWVWpx7OIAyg9EA']\n"
     ]
    }
   ],
   "source": [
    "trackDFMain = pd.DataFrame()\n",
    "for i in range(len(playlistDF)):\n",
    "    resDF = pipeLineFunc(playlistDF[\"playlist_id\"][i],playlistDF[\"user\"][i],playlistDF[\"genre\"][i])\n",
    "    trackDFMain = trackDFMain.append(resDF)\n",
    "\n",
    "    "
   ]
  },
  {
   "cell_type": "code",
   "execution_count": 18,
   "metadata": {
    "collapsed": true
   },
   "outputs": [],
   "source": [
    "uniquetrackDF = trackDFMain.drop_duplicates('id')"
   ]
  },
  {
   "cell_type": "code",
   "execution_count": 19,
   "metadata": {
    "collapsed": true
   },
   "outputs": [],
   "source": [
    "uniquetrackDF.to_csv('RockMusicInfoNew.csv')"
   ]
  }
 ],
 "metadata": {
  "kernelspec": {
   "display_name": "Python 3",
   "language": "python",
   "name": "python3"
  },
  "language_info": {
   "codemirror_mode": {
    "name": "ipython",
    "version": 3
   },
   "file_extension": ".py",
   "mimetype": "text/x-python",
   "name": "python",
   "nbconvert_exporter": "python",
   "pygments_lexer": "ipython3",
   "version": "3.6.1"
  }
 },
 "nbformat": 4,
 "nbformat_minor": 2
}
