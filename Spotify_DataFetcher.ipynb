{
 "cells": [
  {
   "cell_type": "code",
   "execution_count": 70,
   "metadata": {},
   "outputs": [],
   "source": [
    "#Import\n",
    "from spotify import Client, OAuth\n",
    "import pandas as pd"
   ]
  },
  {
   "cell_type": "code",
   "execution_count": 71,
   "metadata": {},
   "outputs": [],
   "source": [
    "auth = OAuth('f716b10140c04e9997c89e1d094745f6', 'b9aa1c134fe244ebaed7b3cba541f6a7')\n",
    "auth.request_client_credentials()"
   ]
  },
  {
   "cell_type": "code",
   "execution_count": 72,
   "metadata": {},
   "outputs": [],
   "source": [
    "spotifyClient = Client(auth)"
   ]
  },
  {
   "cell_type": "code",
   "execution_count": 73,
   "metadata": {},
   "outputs": [],
   "source": [
    "spotifyAPI = spotifyClient.api"
   ]
  },
  {
   "cell_type": "code",
   "execution_count": 74,
   "metadata": {},
   "outputs": [],
   "source": [
    "def getTrackAttributes(trackIdList = []):\n",
    "    trackJson = spotifyAPI.tracks_audio_features(trackIdList)\n",
    "    trackList = trackJson['audio_features']\n",
    "    trackList = list(filter(None, trackList))\n",
    "    return trackList"
   ]
  },
  {
   "cell_type": "code",
   "execution_count": 75,
   "metadata": {},
   "outputs": [],
   "source": [
    "def getAttributeDF(trackFeatList):\n",
    "    trackDF = pd.DataFrame(trackFeatList)\n",
    "    trackDF = trackDF.drop(['analysis_url', 'track_href', 'type', 'uri'], axis=1)\n",
    "    return trackDF"
   ]
  },
  {
   "cell_type": "code",
   "execution_count": 76,
   "metadata": {},
   "outputs": [],
   "source": [
    "def getPlaylistTrack(play_id,user_id):\n",
    "    tracks = spotifyAPI.user_playlist_tracks(playlist_id= play_id, user_id= user_id,fields='items(track.id,track.album.name,track.name,track.artists)')\n",
    "    tracks = list(filter(None, tracks))\n",
    "    return tracks\n"
   ]
  },
  {
   "cell_type": "code",
   "execution_count": 77,
   "metadata": {},
   "outputs": [],
   "source": [
    "def trackJSONtoDF(tracks,genre):\n",
    "    flatData = []\n",
    "\n",
    "    for i in range(len(tracks['items'])):\n",
    "        trackObj = {}\n",
    "        trackObj['id'] = tracks['items'][i]['track']['id']\n",
    "        trackObj['album'] = tracks['items'][i]['track']['album']['name']\n",
    "        trackObj['track_name'] = tracks['items'][i]['track']['name']\n",
    "        trackObj['artist'] = tracks['items'][i]['track']['artists'][0]['name']\n",
    "        trackObj['genre'] = genre\n",
    "        flatData.append(trackObj)\n",
    "    return pd.DataFrame(flatData)"
   ]
  },
  {
   "cell_type": "code",
   "execution_count": 80,
   "metadata": {},
   "outputs": [],
   "source": [
    "def pipeLineFunc(play_id,user_id,genre):\n",
    "    # Fetch playlist tracks\n",
    "    plTracks = getPlaylistTrack(play_id,user_id)\n",
    "    \n",
    "    \n",
    "    # Convert to DF\n",
    "    plTracksDF =  trackJSONtoDF(plTracks,genre)\n",
    "\n",
    "    # Get list of track ids\n",
    "    trackIds = list(plTracksDF['id'])\n",
    "\n",
    "    # Get tracks features\n",
    "    trackFeat = getTrackAttributes(trackIds)\n",
    "\n",
    "    # Convert JSON to DF\n",
    "    trackFeatDF = getAttributeDF(trackFeat)\n",
    "\n",
    "    # Merging 2 data frames\n",
    "    resultDF = pd.concat([plTracksDF, trackFeatDF], axis=1, join='inner')\n",
    "\n",
    "    # Droping duplicate ID columns\n",
    "    resultDF = resultDF.T.drop_duplicates().T\n",
    "\n",
    "    return resultDF\n",
    "    \n",
    "    "
   ]
  },
  {
   "cell_type": "code",
   "execution_count": 82,
   "metadata": {},
   "outputs": [
    {
     "ename": "TypeError",
     "evalue": "list indices must be integers or slices, not str",
     "output_type": "error",
     "traceback": [
      "\u001b[0;31m---------------------------------------------------------------------------\u001b[0m",
      "\u001b[0;31mTypeError\u001b[0m                                 Traceback (most recent call last)",
      "\u001b[0;32m<ipython-input-82-740ec26b98d6>\u001b[0m in \u001b[0;36m<module>\u001b[0;34m()\u001b[0m\n\u001b[0;32m----> 1\u001b[0;31m \u001b[0mres\u001b[0m \u001b[0;34m=\u001b[0m \u001b[0mpipeLineFunc\u001b[0m\u001b[0;34m(\u001b[0m\u001b[0;34m'2kpoUUJ5a4Cw3feTkFJhZ2'\u001b[0m\u001b[0;34m,\u001b[0m\u001b[0;34m'1276640268'\u001b[0m\u001b[0;34m,\u001b[0m\u001b[0;34m'top100'\u001b[0m\u001b[0;34m)\u001b[0m\u001b[0;34m\u001b[0m\u001b[0m\n\u001b[0m\u001b[1;32m      2\u001b[0m \u001b[0mres\u001b[0m\u001b[0;34m\u001b[0m\u001b[0m\n",
      "\u001b[0;32m<ipython-input-80-1b86d49409e7>\u001b[0m in \u001b[0;36mpipeLineFunc\u001b[0;34m(play_id, user_id, genre)\u001b[0m\n\u001b[1;32m      5\u001b[0m \u001b[0;34m\u001b[0m\u001b[0m\n\u001b[1;32m      6\u001b[0m     \u001b[0;31m# Convert to DF\u001b[0m\u001b[0;34m\u001b[0m\u001b[0;34m\u001b[0m\u001b[0m\n\u001b[0;32m----> 7\u001b[0;31m     \u001b[0mplTracksDF\u001b[0m \u001b[0;34m=\u001b[0m  \u001b[0mtrackJSONtoDF\u001b[0m\u001b[0;34m(\u001b[0m\u001b[0mplTracks\u001b[0m\u001b[0;34m,\u001b[0m\u001b[0mgenre\u001b[0m\u001b[0;34m)\u001b[0m\u001b[0;34m\u001b[0m\u001b[0m\n\u001b[0m\u001b[1;32m      8\u001b[0m \u001b[0;34m\u001b[0m\u001b[0m\n\u001b[1;32m      9\u001b[0m     \u001b[0;31m# Get list of track ids\u001b[0m\u001b[0;34m\u001b[0m\u001b[0;34m\u001b[0m\u001b[0m\n",
      "\u001b[0;32m<ipython-input-77-4527b979ccdb>\u001b[0m in \u001b[0;36mtrackJSONtoDF\u001b[0;34m(tracks, genre)\u001b[0m\n\u001b[1;32m      2\u001b[0m     \u001b[0mflatData\u001b[0m \u001b[0;34m=\u001b[0m \u001b[0;34m[\u001b[0m\u001b[0;34m]\u001b[0m\u001b[0;34m\u001b[0m\u001b[0m\n\u001b[1;32m      3\u001b[0m \u001b[0;34m\u001b[0m\u001b[0m\n\u001b[0;32m----> 4\u001b[0;31m     \u001b[0;32mfor\u001b[0m \u001b[0mi\u001b[0m \u001b[0;32min\u001b[0m \u001b[0mrange\u001b[0m\u001b[0;34m(\u001b[0m\u001b[0mlen\u001b[0m\u001b[0;34m(\u001b[0m\u001b[0mtracks\u001b[0m\u001b[0;34m[\u001b[0m\u001b[0;34m'items'\u001b[0m\u001b[0;34m]\u001b[0m\u001b[0;34m)\u001b[0m\u001b[0;34m)\u001b[0m\u001b[0;34m:\u001b[0m\u001b[0;34m\u001b[0m\u001b[0m\n\u001b[0m\u001b[1;32m      5\u001b[0m         \u001b[0mtrackObj\u001b[0m \u001b[0;34m=\u001b[0m \u001b[0;34m{\u001b[0m\u001b[0;34m}\u001b[0m\u001b[0;34m\u001b[0m\u001b[0m\n\u001b[1;32m      6\u001b[0m         \u001b[0mtrackObj\u001b[0m\u001b[0;34m[\u001b[0m\u001b[0;34m'id'\u001b[0m\u001b[0;34m]\u001b[0m \u001b[0;34m=\u001b[0m \u001b[0mtracks\u001b[0m\u001b[0;34m[\u001b[0m\u001b[0;34m'items'\u001b[0m\u001b[0;34m]\u001b[0m\u001b[0;34m[\u001b[0m\u001b[0mi\u001b[0m\u001b[0;34m]\u001b[0m\u001b[0;34m[\u001b[0m\u001b[0;34m'track'\u001b[0m\u001b[0;34m]\u001b[0m\u001b[0;34m[\u001b[0m\u001b[0;34m'id'\u001b[0m\u001b[0;34m]\u001b[0m\u001b[0;34m\u001b[0m\u001b[0m\n",
      "\u001b[0;31mTypeError\u001b[0m: list indices must be integers or slices, not str"
     ]
    }
   ],
   "source": [
    "res = pipeLineFunc('2kpoUUJ5a4Cw3feTkFJhZ2','1276640268','top100')\n",
    "res"
   ]
  },
  {
   "cell_type": "code",
   "execution_count": 12,
   "metadata": {},
   "outputs": [],
   "source": [
    "res.to_csv('billboardTop100.csv'"
   ]
  },
  {
   "cell_type": "code",
   "execution_count": 13,
   "metadata": {},
   "outputs": [
    {
     "data": {
      "text/plain": [
       "Index(['album', 'artist', 'genre', 'id', 'track_name', 'acousticness',\n",
       "       'danceability', 'duration_ms', 'energy', 'instrumentalness', 'key',\n",
       "       'liveness', 'loudness', 'mode', 'speechiness', 'tempo',\n",
       "       'time_signature', 'valence'],\n",
       "      dtype='object')"
      ]
     },
     "execution_count": 13,
     "metadata": {},
     "output_type": "execute_result"
    }
   ],
   "source": [
    "res.columns"
   ]
  },
  {
   "cell_type": "code",
   "execution_count": 65,
   "metadata": {},
   "outputs": [],
   "source": [
    "playListData = [{'user':'spotify','playlist_id':'37i9dQZF1DWTwnEm1IYyoj','genre':'Pop'},\n",
    "{'user':'1154148597','playlist_id':'03Wky4J3HehgLEqgkYmia6','genre':'Pop'},\n",
    "{'user':'spotify','playlist_id':'37i9dQZF1DX5CHqBODmn2c','genre':'Pop'},\n",
    "{'user':'1123398699','playlist_id':'23o2085ZcSb5V3yVxnHj9c','genre':'Pop'},\n",
    "{'user':'1180623169','playlist_id':'2yTNGJu0CWKIms9vhpOPeY','genre':'Pop'},\n",
    "{'user':'1288831866','playlist_id':'0lvwSeY2Og8XyileVyWZ1v','genre':'Pop'},\n",
    "{'user':'dominic.rupp','playlist_id':'2zu4FqqzubZK4oXAZFEL4L','genre':'Pop'},\n",
    "{'user':'redmusiccompany','playlist_id':'3U25AXqlklo3o6LqM1wX1I','genre':'Country'},\n",
    "{'user':'1276364988','playlist_id':'7fIdjWhWzPbf1g5OSDKOXw','genre':'Country'},\n",
    "{'user':'spotify','playlist_id':'37i9dQZF1DX13ZzXoot6Jc','genre':'Country'},\n",
    "{'user':'spotify','playlist_id':'37i9dQZF1DX68H8ZujdnN7','genre':'Rock'},\n",
    "{'user':'spotify','playlist_id':'37i9dQZF1DWZn9s1LNKPiM','genre':'Rock'},\n",
    "{'user':'spotify','playlist_id':'37i9dQZF1DWWwzidNQX6jx','genre':'Rock'},\n",
    "{'user':'sheffield806','playlist_id':'45vvbQl0GL7Niubb3H0U2Y','genre':'Rock'},\n",
    "{'user':'redmusiccompany','playlist_id':'3yhmzZlOnRMCFV7PuMFPKy','genre':'Rock'},\n",
    "{'user':'spotify','playlist_id':'37i9dQZF1DX12YIlzNkccL','genre':'Classical'},\n",
    "{'user':'spotify','playlist_id':'37i9dQZF1DX8qqIDAkKiQg','genre':'Classical'},\n",
    "{'user':'1269890947','playlist_id':'6Jn7zgkmA29infIRmptveP','genre':'Classical'},\n",
    "{'user':'merovingin','playlist_id':'0ZRwrJ2EDGyKR6YgQPWXeO','genre':'Hip Hop'},\n",
    "{'user':'akime1212','playlist_id':'2eY9lPvBKkluNSpeYJo71a','genre':'Hip Hop'},\n",
    "{'user':'19jconnell79','playlist_id':'5772HGqmp2E99GQo5tfmcJ','genre':'Hip Hop'},\n",
    "{'user':'1113721529','playlist_id':'0t3Mn6bXtPNWWZK6x9DtBH','genre':'Hip Hop'},\n",
    "{'user':'playstation_music','playlist_id':'2NoR0KhNZ8oZnC3HoNt2FV','genre':'Hip Hop'},\n",
    "{'user':'spotify','playlist_id':'37i9dQZF1DX8GjsySWIS1x','genre':'Gaming'},\n",
    "{'user':'spotify','playlist_id':'37i9dQZF1DWYnY33e7En9e','genre':'Gaming'},\n",
    "{'user':'1274440778','playlist_id':'5fdipI1K5g6ij4gCP8SvLj','genre':'Gaming'},\n",
    "{'user':'spotify','playlist_id':'37i9dQZF1DX6AIf8KmeDe7','genre':'Gaming'},\n",
    "{'user':'emma.ehrhardt','playlist_id':'0QApAL6CpODIMyweRdAvM4','genre':'Gaming'},\n",
    "{'user':'spotify','playlist_id':'37i9dQZF1DX0SM0LYsmbMT','genre':'Jazz'},\n",
    "{'user':'spotify','playlist_id':'37i9dQZF1DWVqfgj8NZEp1','genre':'Jazz'},\n",
    "{'user':'spotify','playlist_id':'37i9dQZF1DX7YCknf2jT6s','genre':'Jazz'},\n",
    "{'user':'spotify','playlist_id':'37i9dQZF1DWVzZlRWgqAGH','genre':'Jazz'},\n",
    "{'user':'starbucks','playlist_id':'2UPjWBRjJqMQY3LRV2aDTS','genre':'Jazz'},\n",
    "{'user':'spotify','playlist_id':'37i9dQZF1DWSiyIBdVQrkk','genre':'reggae'},\n",
    "{'user':'boogalooboo','playlist_id':'4gRio043A2No9SRU7ERq6q','genre':'reggae'},\n",
    "{'user':'constantinex','playlist_id':'0s8tfHVdQa8duFMev3ZlgD','genre':'reggae'},\n",
    "{'user':'constantinex','playlist_id':'53iDeoyHodextygU8wpras','genre':'reggae'},\n",
    "{'user':'jmelendez1024','playlist_id':'0ka9e6tQIfLXVSNXraZxNz','genre':'reggae'},\n",
    "{'user':'spotify','playlist_id':'37i9dQZF1DX2ohL85TE8TI','genre':'K-pop'},\n",
    "{'user':'spotify','playlist_id':'37i9dQZF1DXbirtHQBuwCo','genre':'K-pop'},\n",
    "{'user':'spotify','playlist_id':'37i9dQZF1DX5eq3AONkaho','genre':'K-pop'},\n",
    "{'user':'thehela1997','playlist_id':'4c1DULvTgCGWcTETJrra5A','genre':'K-pop'},\n",
    "{'user':'12165116393','playlist_id':'3OWkXYSwYzKeN64mCqkouR','genre':'K-pop'}]"
   ]
  },
  {
   "cell_type": "code",
   "execution_count": 66,
   "metadata": {},
   "outputs": [],
   "source": [
    "playlistDF = pd.DataFrame(playListData)"
   ]
  },
  {
   "cell_type": "code",
   "execution_count": 67,
   "metadata": {},
   "outputs": [
    {
     "data": {
      "text/plain": [
       "'03Wky4J3HehgLEqgkYmia6'"
      ]
     },
     "execution_count": 67,
     "metadata": {},
     "output_type": "execute_result"
    }
   ],
   "source": [
    "playlistDF[\"playlist_id\"][1]"
   ]
  },
  {
   "cell_type": "code",
   "execution_count": 68,
   "metadata": {},
   "outputs": [],
   "source": [
    "trackDFMain = pd.DataFrame()\n",
    "for i in range(len(playlistDF)):\n",
    "    resDF = pipeLineFunc(playlistDF[\"playlist_id\"][i],playlistDF[\"user\"][i],playlistDF[\"genre\"][i])\n",
    "    trackDFMain = trackDFMain.append(resDF)"
   ]
  },
  {
   "cell_type": "code",
   "execution_count": 38,
   "metadata": {},
   "outputs": [],
   "source": [
    "trackDFMain = pd.DataFrame()"
   ]
  },
  {
   "cell_type": "code",
   "execution_count": 63,
   "metadata": {},
   "outputs": [],
   "source": [
    "res = pipeLineFunc('37i9dQZF1DWTwnEm1IYyoj','spotify','Pop')\n",
    "trackDFMain = trackDFMain.append(res)\n"
   ]
  },
  {
   "cell_type": "code",
   "execution_count": 64,
   "metadata": {},
   "outputs": [
    {
     "data": {
      "text/plain": [
       "['items']"
      ]
     },
     "execution_count": 64,
     "metadata": {},
     "output_type": "execute_result"
    }
   ],
   "source": [
    "plTracks = getPlaylistTrack('37i9dQZF1DWTwnEm1IYyoj','spotify')\n",
    "    \n",
    "plTracks"
   ]
  },
  {
   "cell_type": "code",
   "execution_count": 69,
   "metadata": {},
   "outputs": [
    {
     "data": {
      "text/html": [
       "<div>\n",
       "<style>\n",
       "    .dataframe thead tr:only-child th {\n",
       "        text-align: right;\n",
       "    }\n",
       "\n",
       "    .dataframe thead th {\n",
       "        text-align: left;\n",
       "    }\n",
       "\n",
       "    .dataframe tbody tr th {\n",
       "        vertical-align: top;\n",
       "    }\n",
       "</style>\n",
       "<table border=\"1\" class=\"dataframe\">\n",
       "  <thead>\n",
       "    <tr style=\"text-align: right;\">\n",
       "      <th></th>\n",
       "    </tr>\n",
       "  </thead>\n",
       "  <tbody>\n",
       "  </tbody>\n",
       "</table>\n",
       "</div>"
      ],
      "text/plain": [
       "Empty DataFrame\n",
       "Columns: []\n",
       "Index: []"
      ]
     },
     "execution_count": 69,
     "metadata": {},
     "output_type": "execute_result"
    }
   ],
   "source": [
    "    # Convert to DF\n",
    "trackDFMain"
   ]
  },
  {
   "cell_type": "code",
   "execution_count": null,
   "metadata": {},
   "outputs": [],
   "source": []
  }
 ],
 "metadata": {
  "kernelspec": {
   "display_name": "Python 3",
   "language": "python",
   "name": "python3"
  },
  "language_info": {
   "codemirror_mode": {
    "name": "ipython",
    "version": 3
   },
   "file_extension": ".py",
   "mimetype": "text/x-python",
   "name": "python",
   "nbconvert_exporter": "python",
   "pygments_lexer": "ipython3",
   "version": "3.6.4"
  }
 },
 "nbformat": 4,
 "nbformat_minor": 2
}
